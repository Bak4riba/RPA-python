{
 "cells": [
  {
   "cell_type": "code",
   "execution_count": 25,
   "metadata": {},
   "outputs": [],
   "source": [
    "import pyautogui\n",
    "import time\n",
    "pyautogui.position()\n",
    "pyautogui.moveTo(1347,740)\n",
    "pyautogui.click()\n",
    "pyautogui.moveTo(0,740)\n",
    "pyautogui.click()\n",
    "pyautogui.write('firefox')\n",
    "pyautogui.moveTo(496,185)\n",
    "pyautogui.click()\n",
    "time.sleep(2)\n",
    "pyautogui.typewrite('github.com/Bak4riba')\n",
    "pyautogui.press('enter')"
   ]
  }
 ],
 "metadata": {
  "kernelspec": {
   "display_name": "Python 3",
   "language": "python",
   "name": "python3"
  },
  "language_info": {
   "codemirror_mode": {
    "name": "ipython",
    "version": 3
   },
   "file_extension": ".py",
   "mimetype": "text/x-python",
   "name": "python",
   "nbconvert_exporter": "python",
   "pygments_lexer": "ipython3",
   "version": "3.10.6"
  },
  "orig_nbformat": 4,
  "vscode": {
   "interpreter": {
    "hash": "916dbcbb3f70747c44a77c7bcd40155683ae19c65e1c03b4aa3499c5328201f1"
   }
  }
 },
 "nbformat": 4,
 "nbformat_minor": 2
}
